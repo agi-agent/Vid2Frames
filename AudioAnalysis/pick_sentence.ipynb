{
 "cells": [
  {
   "attachments": {},
   "cell_type": "markdown",
   "metadata": {},
   "source": [
    "## Introduction to The ChatGPT APIs"
   ]
  },
  {
   "attachments": {},
   "cell_type": "markdown",
   "metadata": {},
   "source": [
    "Install or update the OpenAI Python library first"
   ]
  },
  {
   "cell_type": "code",
   "execution_count": 1,
   "metadata": {},
   "outputs": [],
   "source": [
    "import openai\n",
    "import os\n",
    "import IPython\n",
    "import pandas as pd\n",
    "from dotenv import load_dotenv\n",
    "load_dotenv()\n",
    "import re\n",
    "openai.api_key = os.getenv(\"OPENAI_API_KEY\")"
   ]
  },
  {
   "attachments": {},
   "cell_type": "markdown",
   "metadata": {},
   "source": [
    "To load environment variables, you can use anything you like but I used `python-dotenv`. Just create a `.env` file with your `OPENAI_API_KEY` then load it."
   ]
  },
  {
   "attachments": {},
   "cell_type": "markdown",
   "metadata": {},
   "source": [
    "### Non-Conversation Request"
   ]
  },
  {
   "attachments": {},
   "cell_type": "markdown",
   "metadata": {},
   "source": [
    "Let's try an example with a task that doesn't involve a conversation. Here's one way you can format it:"
   ]
  },
  {
   "cell_type": "code",
   "execution_count": 2,
   "metadata": {},
   "outputs": [
    {
     "data": {
      "text/markdown": [
       " This is Visual Studio Code, a lightweight but powerful code editor.  In the next few minutes, I'm going to start from scratch so you can follow along and we're  going to write and execute some code in JavaScript, Python and HTML and along the way  explore the features of this code editor.  Now once installed in launch, the first thing that I want to do is show you how to open  a folder to set your workspace, which you can just do by going to this folder icon here,  and clicking open or you can use this shortcut and in my case that's command O.  Now I know that I want my workspace to be in my documents folder, under getting started.  So all I have to do is highlight that folder and click open.  On the left hand corner, you'll see under Explorer, my folder name getting started,  and any files that I have under there, which is currently none.  Now that we've got a folder open, let's take a quick look at the editors so you know the  purpose of some of these buttons and sections.  On the far left is the activity bar and the first icon is for the Explorer to see  your folders and files.  Below is a magnifying glass to search, find and replace text and files across your whole  workspace.  Then there's source control to track changes in code with git and GitHub.  Next is run and debug to execute code and debug it using breakpoints.  The extension marketplace to add additional features to our code editor and then a couple  of icons for your account and to manage settings.  But at the very top center, we have our command palette, which you can go to view and select  it as your first option or use the shortcut.  The command palette is very important as it is the control center for all commands and  visual studio code.  At the bottom of the screen is the status bar where on the left we'll see a number of errors  or warnings and on the right the current line number and programming language.  Right above that is a panel for output or debug information, problem details and integrated  terminal.  So let's go ahead and create a new file.  I can go over here and select new file or hit command end and quickly notice at the  bottom right hand corner it says playing text.  But once I start typing console.log open parentheses, immediately it notices its JavaScript.  And at this point once I start writing anything else, IntelliSense is going to kick in.  I write CON and it's like oh you want to write confirm console.  It's trying to predict exactly what I want to write.  I hit the dot, the letter L, do you want to write log?  Yeah, it's reading my mind practically.  This is IntelliSense.  It's that smart completion.  All I'll write is Ryzen Shine and on the next line ready for a new day.  And if I had command S, I will save my file as JS sample.js and hit save.  And you know you need to save whenever it's a change made because if I hit the space  part here you'll see that there's a dot that shows up which means I need to save.  And if I want to have to avoid having to save every single time I can go to file auto  save and any little change that I make it immediately saves it.  And now to execute our code, I hit F5.  It has you can see below Ryzen Shine ready for a new day.  Now let's write something in Python.  I'll create a new file command N and I will save it as Python sample dot P Y.  So, Visual Studio code at the bottom right hand corner notices that it's Python.  But if I start actually writing code you'll notice that I don't have that IntelliSense.  In fact I could write almost anything here and it's not giving me any type of warning.  So for language like Python, extra support is needed and that's where we could use an extension  which is the first one recommended here.  So now it's installing and it will give us IntelliSense Linting which is going to give us that  squiggly line whenever it is like an error debugging and some more capabilities.  So now if I start writing I get that IntelliSense and I can finish writing my statement  and if I put in some nonsense here it will give me a warning.  And now I can add some more code to execute it by hitting F5.  Python has entered the building or I could also execute it by hitting this run button here.  Now how about demonstrating something with HTML.  So instead of creating a new file what I do want to demonstrate is that you can just bring  in a file into the Explorer section.  So if I go and choose Explorer I already have some prepared HTML that I'm going to drag in  from another folder and when I drop it a copy of this file will be created into my workspace  under Getting Started.  And here is just some simple HTML.  Now with HTML we can't execute it from the terminal but what we can do is use an extension  that will open a browser preview right in Visual Studio code next to your HTML and CSS.  And that extension is called Live Preview and we want the ones specifically by Microsoft  which is the first one here.  So I'll install that, head back to the Explorer and now all I need to do is right click on my HTML  file to select Show Preview and there you have it within Visual Studio code.  Now this version doesn't seem to attractive because there's no styling to it.  I do have another example, I can go ahead and drop in and this includes some bootstrap styling.  And I'll do the same right click Show Preview.  This looks a little bit better.  I command minus so you can have a better view and what's great about this is you can make  some changes and you'll see the results on the fly and that is great.  I'll increase my screen again hitting Command plus.  The last thing that I want to show you is that FVS code is extremely customizable not only  with functionality features but also with the way that it looks by changing themes.  So for example, if I were to go to the Command Palette which we mentioned earlier by hitting  Command Shift P and I typed in theme, I can choose color themes and start scrolling up and down  through the different themes that are available.  And if you don't see what you like, there's an option for browse additional color themes.  You can choose that and we'll search for a lot more that's available online.  And you could scroll through a bunch of these or if you already know the name of your theme,  you can just search by just typing it in.  Like I know one that's called Night Owl.  I'll choose the first and see how everything looks with my new theme."
      ],
      "text/plain": [
       "<IPython.core.display.Markdown object>"
      ]
     },
     "execution_count": 2,
     "metadata": {},
     "output_type": "execute_result"
    }
   ],
   "source": [
    "example_text = pd.read_csv(\"../SampleVideo/VScode_test_1_sentence_timestamp.csv\")\n",
    "full_text = example_text[\"text\"].to_list()\n",
    "full_text = \" \".join(full_text)\n",
    "IPython.display.Markdown(full_text)"
   ]
  },
  {
   "cell_type": "code",
   "execution_count": 3,
   "metadata": {},
   "outputs": [
    {
     "data": {
      "text/markdown": [
       "1. In the next few minutes, I'm going to start from scratch so you can follow along and we're going to write and execute some code in JavaScript, Python and HTML and along the way explore the features of this code editor.\n",
       "2. Now once installed in launch, the first thing that I want to do is show you how to open a folder to set your workspace, which you can just do by going to this folder icon here, and clicking open or you can use this shortcut and in my case that's command O.\n",
       "3. Now I know that I want my workspace to be in my documents folder, under getting started.\n",
       "4. So all I have to do is highlight that folder and click open.\n",
       "5. On the left hand corner, you'll see under Explorer, my folder name getting started, and any files that I have under there, which is currently none.\n",
       "6. Now that we've got a folder open, let's take a quick look at the editors so you know the purpose of some of these buttons and sections.\n",
       "7. On the far left is the activity bar and the first icon is for the Explorer to see your folders and files.\n",
       "8. Below is a magnifying glass to search, find and replace text and files across your whole workspace.\n",
       "9. Then there's source control to track changes in code with git and GitHub.\n",
       "10. Next is run and debug to execute code and debug it using breakpoints.\n",
       "11. The extension marketplace to add additional features to our code editor and then a couple of icons for your account and to manage settings.\n",
       "12. But at the very top center, we have our command palette, which you can go to view and select it as your first option or use the shortcut.\n",
       "13. The command palette is very important as it is the control center for all commands and visual studio code.\n",
       "14. At the bottom of the screen is the status bar where on the left we'll see a number of errors or warnings and on the right the current line number and programming language.\n",
       "15. Right above that is a panel for output or debug information, problem details and integrated terminal.\n",
       "16. So let's go ahead and create a new file.\n",
       "17. I can go over here and select new file or hit command end and quickly notice at the bottom right hand corner it says playing text.\n",
       "18. But once I start typing console.log open parentheses, immediately it notices its JavaScript.\n",
       "19. And at this point once I start writing anything else, IntelliSense is going to kick in.\n",
       "20. I write CON and it's like oh you want to write confirm console.\n",
       "21. It's trying to predict exactly what I want to write.\n",
       "22. I hit the dot, the letter L, do you want to write log?\n",
       "23. Yeah, it's reading my mind practically.\n",
       "24. This is IntelliSense.\n",
       "25. It's that smart completion.\n",
       "26. All I'll write is Ryzen Shine and on the next line ready for a new day.\n",
       "27. And if I had command S, I will save my file as JS sample.js and hit save.\n",
       "28. And you know you need to save whenever it's a change made because if I hit the space part here you'll see that there's a dot that shows up which means I need to save.\n",
       "29. And if I want to have to avoid having to save every single time I can go to file auto save and any little change that I make it immediately saves it.\n",
       "30. And now to execute our code, I hit F5.\n",
       "31. It has you can see below Ryzen Shine ready for a new day.\n",
       "32. Now let's write something in Python.\n",
       "33. I'll create a new file command N and I will save it as Python sample dot P Y.\n",
       "34. So, Visual Studio code at the bottom right hand corner notices that it's Python.\n",
       "35. But if I start actually writing code you'll notice that I don't have that IntelliSense.\n",
       "36. In fact I could write almost anything here and it's not giving me any type of warning.\n",
       "37. So for language like Python, extra support is needed and that's where we could use an extension which is the first one recommended here.\n",
       "38. So now it's installing and it will give us IntelliSense Linting which is going to give us that squiggly line whenever it is like an error debugging and some more capabilities.\n",
       "39. So now if I start writing I get that IntelliSense and I can finish writing my statement and if I put in some nonsense here it will give me a warning.\n",
       "40. And now I can add some more code to execute it by hitting F5.\n",
       "41. Python has entered the building or I could also execute it by hitting this run button here.\n",
       "42. Now how about demonstrating something with HTML.\n",
       "43. So instead of creating a new file what I do want to demonstrate is that you can just bring in a file into the Explorer section.\n",
       "44. So if I go and choose Explorer I already have some prepared HTML that I'm going to drag in from another folder and when I drop it a copy of this file will be created into my workspace under Getting Started.\n",
       "45. And here is just some simple HTML.\n",
       "46. Now with HTML we can't execute it from the terminal but what we can do is use an extension that will open a browser preview right in Visual Studio code next to your HTML and CSS.\n",
       "47. And that extension is called Live Preview and we want the ones specifically by Microsoft which is the first one here.\n",
       "48. So I'll install that, head back to the Explorer and now all I need to do is right click on my HTML file to select Show Preview and there you have it within Visual Studio code.\n",
       "49. Now this version doesn't seem to attractive because there's no styling to it.\n",
       "50. I do have another example, I can go ahead and drop in and this includes some bootstrap styling.\n",
       "51. And I'll do the same right click Show Preview.\n",
       "52. This looks a little bit better.\n",
       "53. I command minus so you can have a better view and what's great about this is you can make some changes and you'll see the results on the fly and that is great.\n",
       "54. I'll increase my screen again hitting Command plus.\n",
       "55. The last thing that I want to show you is that FVS code is extremely customizable not only with functionality features but also with the way that it looks by changing themes.\n",
       "56. So for example, if I were to go to the Command Palette which we mentioned earlier by hitting Command Shift P and I typed in theme, I can choose color themes and start scrolling up and down through the different themes that are available.\n",
       "57. And if you don't see what you like, there's an option for browse additional color themes.\n",
       "58. You can choose that and we'll search for a lot more that's available online.\n",
       "59. And you could scroll through a bunch of these or if you already know the name of your theme, you can just search by just typing it in.\n",
       "60. Like I know one that's called Night Owl.\n",
       "61. I'll choose the first and see how everything looks with my new theme."
      ],
      "text/plain": [
       "<IPython.core.display.Markdown object>"
      ]
     },
     "execution_count": 3,
     "metadata": {},
     "output_type": "execute_result"
    }
   ],
   "source": [
    "MODEL = \"gpt-4o\"\n",
    "\n",
    "CONTENT = full_text\n",
    "\n",
    "response = openai.chat.completions.create(\n",
    "    model=MODEL,\n",
    "    messages=[\n",
    "        {\"role\": \"system\", \"content\": \"You are an AI research assistant. You need to extract key content from a text that explains how to use a software application and provide me with the complete sentences from the text. Please list them in a numbered list.\"},\n",
    "        {\"role\": \"user\", \"content\": CONTENT},\n",
    "    ],\n",
    "    temperature=0,\n",
    ")\n",
    "\n",
    "\n",
    "IPython.display.Markdown(response.choices[0].message.content)"
   ]
  },
  {
   "cell_type": "code",
   "execution_count": 4,
   "metadata": {},
   "outputs": [
    {
     "data": {
      "text/html": [
       "<div>\n",
       "<style scoped>\n",
       "    .dataframe tbody tr th:only-of-type {\n",
       "        vertical-align: middle;\n",
       "    }\n",
       "\n",
       "    .dataframe tbody tr th {\n",
       "        vertical-align: top;\n",
       "    }\n",
       "\n",
       "    .dataframe thead th {\n",
       "        text-align: right;\n",
       "    }\n",
       "</style>\n",
       "<table border=\"1\" class=\"dataframe\">\n",
       "  <thead>\n",
       "    <tr style=\"text-align: right;\">\n",
       "      <th></th>\n",
       "      <th>text</th>\n",
       "    </tr>\n",
       "  </thead>\n",
       "  <tbody>\n",
       "    <tr>\n",
       "      <th>0</th>\n",
       "      <td>In the next few minutes, I'm going to start fr...</td>\n",
       "    </tr>\n",
       "    <tr>\n",
       "      <th>1</th>\n",
       "      <td>Now once installed in launch, the first thing ...</td>\n",
       "    </tr>\n",
       "    <tr>\n",
       "      <th>2</th>\n",
       "      <td>Now I know that I want my workspace to be in m...</td>\n",
       "    </tr>\n",
       "    <tr>\n",
       "      <th>3</th>\n",
       "      <td>So all I have to do is highlight that folder a...</td>\n",
       "    </tr>\n",
       "    <tr>\n",
       "      <th>4</th>\n",
       "      <td>On the left hand corner, you'll see under Expl...</td>\n",
       "    </tr>\n",
       "  </tbody>\n",
       "</table>\n",
       "</div>"
      ],
      "text/plain": [
       "                                                text\n",
       "0  In the next few minutes, I'm going to start fr...\n",
       "1  Now once installed in launch, the first thing ...\n",
       "2  Now I know that I want my workspace to be in m...\n",
       "3  So all I have to do is highlight that folder a...\n",
       "4  On the left hand corner, you'll see under Expl..."
      ]
     },
     "execution_count": 4,
     "metadata": {},
     "output_type": "execute_result"
    }
   ],
   "source": [
    "response_items = re.findall(r'\\d+\\.\\s*(.*)', response.choices[0].message.content)\n",
    "useful_text = pd.DataFrame(response_items, columns=['text'])\n",
    "useful_text.head()"
   ]
  },
  {
   "cell_type": "code",
   "execution_count": 6,
   "metadata": {},
   "outputs": [
    {
     "data": {
      "text/html": [
       "<div>\n",
       "<style scoped>\n",
       "    .dataframe tbody tr th:only-of-type {\n",
       "        vertical-align: middle;\n",
       "    }\n",
       "\n",
       "    .dataframe tbody tr th {\n",
       "        vertical-align: top;\n",
       "    }\n",
       "\n",
       "    .dataframe thead th {\n",
       "        text-align: right;\n",
       "    }\n",
       "</style>\n",
       "<table border=\"1\" class=\"dataframe\">\n",
       "  <thead>\n",
       "    <tr style=\"text-align: right;\">\n",
       "      <th></th>\n",
       "      <th>start</th>\n",
       "      <th>end</th>\n",
       "      <th>text</th>\n",
       "      <th>useful</th>\n",
       "    </tr>\n",
       "  </thead>\n",
       "  <tbody>\n",
       "    <tr>\n",
       "      <th>0</th>\n",
       "      <td>3.14</td>\n",
       "      <td>7.72</td>\n",
       "      <td>This is Visual Studio Code, a lightweight but...</td>\n",
       "      <td>False</td>\n",
       "    </tr>\n",
       "    <tr>\n",
       "      <th>1</th>\n",
       "      <td>8.16</td>\n",
       "      <td>12.31</td>\n",
       "      <td>In the next few minutes, I'm going to start f...</td>\n",
       "      <td>False</td>\n",
       "    </tr>\n",
       "    <tr>\n",
       "      <th>2</th>\n",
       "      <td>12.31</td>\n",
       "      <td>17.39</td>\n",
       "      <td>going to write and execute some code in JavaS...</td>\n",
       "      <td>True</td>\n",
       "    </tr>\n",
       "    <tr>\n",
       "      <th>3</th>\n",
       "      <td>17.39</td>\n",
       "      <td>19.22</td>\n",
       "      <td>explore the features of this code editor.</td>\n",
       "      <td>True</td>\n",
       "    </tr>\n",
       "    <tr>\n",
       "      <th>4</th>\n",
       "      <td>19.58</td>\n",
       "      <td>23.91</td>\n",
       "      <td>Now once installed in launch, the first thing...</td>\n",
       "      <td>False</td>\n",
       "    </tr>\n",
       "  </tbody>\n",
       "</table>\n",
       "</div>"
      ],
      "text/plain": [
       "   start    end                                               text  useful\n",
       "0   3.14   7.72   This is Visual Studio Code, a lightweight but...   False\n",
       "1   8.16  12.31   In the next few minutes, I'm going to start f...   False\n",
       "2  12.31  17.39   going to write and execute some code in JavaS...    True\n",
       "3  17.39  19.22          explore the features of this code editor.    True\n",
       "4  19.58  23.91   Now once installed in launch, the first thing...   False"
      ]
     },
     "execution_count": 6,
     "metadata": {},
     "output_type": "execute_result"
    }
   ],
   "source": [
    "useful_list = useful_text[\"text\"].tolist() \n",
    "example_text[\"useful\"] = example_text[\"text\"].apply(lambda x: any(x in ut for ut in useful_list))\n",
    "example_text.head()\n"
   ]
  }
 ],
 "metadata": {
  "kernelspec": {
   "display_name": "agent",
   "language": "python",
   "name": "python3"
  },
  "language_info": {
   "codemirror_mode": {
    "name": "ipython",
    "version": 3
   },
   "file_extension": ".py",
   "mimetype": "text/x-python",
   "name": "python",
   "nbconvert_exporter": "python",
   "pygments_lexer": "ipython3",
   "version": "3.10.16"
  },
  "orig_nbformat": 4
 },
 "nbformat": 4,
 "nbformat_minor": 2
}
