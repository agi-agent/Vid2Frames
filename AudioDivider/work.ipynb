{
 "cells": [
  {
   "cell_type": "code",
   "execution_count": 2,
   "metadata": {},
   "outputs": [
    {
     "name": "stdout",
     "output_type": "stream",
     "text": [
      "Total frames: 32032, FPS: 30.00\n"
     ]
    },
    {
     "name": "stderr",
     "output_type": "stream",
     "text": [
      "Processing frames: 100%|█████████▉| 32029/32032 [14:27<00:00, 36.91frame/s]"
     ]
    },
    {
     "name": "stdout",
     "output_type": "stream",
     "text": [
      "\n",
      "Video splitting completed. 32029 frames saved in the folder: ../SampleVideo/VScode_test_2.\n"
     ]
    },
    {
     "name": "stderr",
     "output_type": "stream",
     "text": [
      "\n"
     ]
    }
   ],
   "source": [
    "import cv2\n",
    "import os\n",
    "from tqdm import tqdm \n",
    "# Video file path\n",
    "video_path = \"../SampleVideo/VScode_test_2.mp4\"\n",
    "\n",
    "# Get the output folder name without the file extension\n",
    "output_folder = os.path.splitext(video_path)[0]\n",
    "os.makedirs(output_folder, exist_ok=True)  # Create the folder if it doesn't exist\n",
    "\n",
    "# Read the video\n",
    "cap = cv2.VideoCapture(video_path)\n",
    "\n",
    "# Get total number of frames\n",
    "total_frames = int(cap.get(cv2.CAP_PROP_FRAME_COUNT))\n",
    "fps = cap.get(cv2.CAP_PROP_FPS)  # Get frames per second (FPS)\n",
    "print(f\"Total frames: {total_frames}, FPS: {fps:.2f}\")\n",
    "\n",
    "frame_count = 0\n",
    "\n",
    "# Initialize tqdm progress bar\n",
    "with tqdm(total=total_frames, desc=\"Processing frames\", unit=\"frame\") as pbar:\n",
    "    while cap.isOpened():\n",
    "        ret, frame = cap.read()\n",
    "        if not ret:\n",
    "            break\n",
    "\n",
    "        # Get the current frame timestamp (in milliseconds)\n",
    "        timestamp_ms = cap.get(cv2.CAP_PROP_POS_MSEC)\n",
    "        timestamp_sec = timestamp_ms / 1000  # Convert to seconds\n",
    "        timestamp_formatted = f\"{timestamp_sec:.3f}s\"  # Keep 3 decimal places\n",
    "\n",
    "        # Generate frame filename\n",
    "        frame_filename = os.path.join(output_folder, f\"frame_{timestamp_formatted}.png\")\n",
    "        cv2.imwrite(frame_filename, frame)\n",
    "\n",
    "        frame_count += 1\n",
    "        pbar.update(1)  # Update progress bar\n",
    "\n",
    "cap.release()\n",
    "print(f\"\\nVideo splitting completed. {frame_count} frames saved in the folder: {output_folder}.\")\n"
   ]
  }
 ],
 "metadata": {
  "kernelspec": {
   "display_name": "agent",
   "language": "python",
   "name": "python3"
  },
  "language_info": {
   "codemirror_mode": {
    "name": "ipython",
    "version": 3
   },
   "file_extension": ".py",
   "mimetype": "text/x-python",
   "name": "python",
   "nbconvert_exporter": "python",
   "pygments_lexer": "ipython3",
   "version": "3.10.16"
  }
 },
 "nbformat": 4,
 "nbformat_minor": 2
}
