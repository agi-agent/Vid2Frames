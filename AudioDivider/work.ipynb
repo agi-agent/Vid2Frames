{
 "cells": [
  {
   "cell_type": "code",
   "execution_count": 1,
   "metadata": {},
   "outputs": [],
   "source": [
    "import cv2\n",
    "import os\n",
    "from tqdm import tqdm"
   ]
  },
  {
   "cell_type": "markdown",
   "metadata": {},
   "source": [
    "Video file path"
   ]
  },
  {
   "cell_type": "code",
   "execution_count": 2,
   "metadata": {},
   "outputs": [],
   "source": [
    "video_path = \"../SampleVideo/VScode_test_1.mp4\""
   ]
  },
  {
   "cell_type": "code",
   "execution_count": 3,
   "metadata": {},
   "outputs": [
    {
     "name": "stdout",
     "output_type": "stream",
     "text": [
      "Total frames: 24606, FPS: 60.00\n",
      "Frames already exist in '../SampleVideo/VScode_test_1' (24606/24606). Skipping extraction.\n"
     ]
    }
   ],
   "source": [
    "output_folder = os.path.splitext(video_path)[0]\n",
    "os.makedirs(output_folder, exist_ok=True) \n",
    "\n",
    "cap = cv2.VideoCapture(video_path)\n",
    "\n",
    "total_frames = int(cap.get(cv2.CAP_PROP_FRAME_COUNT))\n",
    "fps = cap.get(cv2.CAP_PROP_FPS)\n",
    "print(f\"Total frames: {total_frames}, FPS: {fps:.2f}\")\n",
    "\n",
    "# Check if the expected number of frames already exists\n",
    "existing_frames = len([f for f in os.listdir(output_folder) if f.endswith(\".png\")])\n",
    "\n",
    "if existing_frames == total_frames:\n",
    "    print(f\"Frames already exist in '{output_folder}' ({existing_frames}/{total_frames}). Skipping extraction.\")\n",
    "else:\n",
    "    print(f\"Extracting frames... ({existing_frames}/{total_frames} existing frames found)\")\n",
    "\n",
    "    frame_count = 0\n",
    "\n",
    "    with tqdm(total=total_frames, desc=\"Processing frames\", unit=\"frame\") as pbar:\n",
    "        while cap.isOpened():\n",
    "            ret, frame = cap.read()\n",
    "            if not ret:\n",
    "                break\n",
    "\n",
    "            timestamp_ms = cap.get(cv2.CAP_PROP_POS_MSEC)\n",
    "            timestamp_sec = timestamp_ms / 1000  \n",
    "            timestamp_formatted = f\"{timestamp_sec:.3f}s\" \n",
    "\n",
    "            frame_filename = os.path.join(output_folder, f\"frame_{timestamp_formatted}.png\")\n",
    "\n",
    "            cv2.imwrite(frame_filename, frame)\n",
    "\n",
    "            frame_count += 1\n",
    "            pbar.update(1) \n",
    "\n",
    "    print(f\"\\nVideo splitting completed. {frame_count} frames saved in the folder: {output_folder}.\")\n",
    "\n",
    "cap.release()\n"
   ]
  }
 ],
 "metadata": {
  "kernelspec": {
   "display_name": "agent",
   "language": "python",
   "name": "python3"
  },
  "language_info": {
   "codemirror_mode": {
    "name": "ipython",
    "version": 3
   },
   "file_extension": ".py",
   "mimetype": "text/x-python",
   "name": "python",
   "nbconvert_exporter": "python",
   "pygments_lexer": "ipython3",
   "version": "3.10.16"
  }
 },
 "nbformat": 4,
 "nbformat_minor": 2
}
